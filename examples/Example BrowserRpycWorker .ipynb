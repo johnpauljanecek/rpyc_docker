{
 "cells": [
  {
   "cell_type": "code",
   "execution_count": 1,
   "metadata": {
    "collapsed": false
   },
   "outputs": [
    {
     "name": "stdout",
     "output_type": "stream",
     "text": [
      "/home/john/Development/python/rpyc_docker\n"
     ]
    }
   ],
   "source": [
    "cd .."
   ]
  },
  {
   "cell_type": "code",
   "execution_count": 2,
   "metadata": {
    "collapsed": false
   },
   "outputs": [],
   "source": [
    "import rpyc_docker.browser"
   ]
  },
  {
   "cell_type": "code",
   "execution_count": 3,
   "metadata": {
    "collapsed": false
   },
   "outputs": [],
   "source": [
    "import rpyc_docker\n",
    "from docker import Client\n",
    "docker = Client(base_url='unix://var/run/docker.sock')"
   ]
  },
  {
   "cell_type": "code",
   "execution_count": 4,
   "metadata": {
    "collapsed": true
   },
   "outputs": [],
   "source": [
    "worker = rpyc_docker.BrowserRpycWorker(docker,\"/home/john\")"
   ]
  },
  {
   "cell_type": "code",
   "execution_count": 5,
   "metadata": {
    "collapsed": false
   },
   "outputs": [],
   "source": [
    "worker.create_container()"
   ]
  },
  {
   "cell_type": "code",
   "execution_count": 6,
   "metadata": {
    "collapsed": false
   },
   "outputs": [
    {
     "data": {
      "text/plain": [
       "True"
      ]
     },
     "execution_count": 6,
     "metadata": {},
     "output_type": "execute_result"
    }
   ],
   "source": [
    "worker.connect_rpyc()"
   ]
  },
  {
   "cell_type": "code",
   "execution_count": 7,
   "metadata": {
    "collapsed": false
   },
   "outputs": [
    {
     "data": {
      "text/plain": [
       "True"
      ]
     },
     "execution_count": 7,
     "metadata": {},
     "output_type": "execute_result"
    }
   ],
   "source": [
    "worker.setup_browser(\"firefox\")"
   ]
  },
  {
   "cell_type": "code",
   "execution_count": 8,
   "metadata": {
    "collapsed": true
   },
   "outputs": [],
   "source": [
    "worker.teardown()"
   ]
  },
  {
   "cell_type": "markdown",
   "metadata": {},
   "source": [
    "#Browser in docker runs DuckDuckGoPage\n",
    "here the duckduckgo page is on the client side, but because rpyc remote objects are transparent we can pass to the browser"
   ]
  },
  {
   "cell_type": "code",
   "execution_count": 13,
   "metadata": {
    "collapsed": false
   },
   "outputs": [
    {
     "name": "stdout",
     "output_type": "stream",
     "text": [
      "/home/john/Development/python/rpyc_docker/examples\n"
     ]
    }
   ],
   "source": [
    "cd examples/"
   ]
  },
  {
   "cell_type": "code",
   "execution_count": 29,
   "metadata": {
    "collapsed": false
   },
   "outputs": [],
   "source": [
    "import basepage\n",
    "reload(basepage)\n",
    "import duckduckgo_page\n",
    "reload(duckduckgo_page)\n",
    "from duckduckgo_page import DuckDuckGoPage"
   ]
  },
  {
   "cell_type": "code",
   "execution_count": 30,
   "metadata": {
    "collapsed": false
   },
   "outputs": [],
   "source": [
    "duckDuckGoPage = DuckDuckGoPage(worker.browser)"
   ]
  },
  {
   "cell_type": "code",
   "execution_count": 31,
   "metadata": {
    "collapsed": false
   },
   "outputs": [],
   "source": [
    "duckDuckGoPage.search(\"python\")"
   ]
  },
  {
   "cell_type": "code",
   "execution_count": 32,
   "metadata": {
    "collapsed": true
   },
   "outputs": [],
   "source": [
    "results = duckDuckGoPage.get_results()"
   ]
  },
  {
   "cell_type": "code",
   "execution_count": 34,
   "metadata": {
    "collapsed": false
   },
   "outputs": [
    {
     "data": {
      "text/plain": [
       "[{u'href': u'https://www.python.org/',\n",
       "  u'snippet': u'Official site for the interpreted, interactive, object-oriented, extensible programming language. Includes news, documentation, free downloads, and developer information.',\n",
       "  u'title': u'Welcome to Python.org '},\n",
       " {u'href': u'https://en.wikipedia.org/wiki/Python_(programming_language)',\n",
       "  u'snippet': u'Python is a widely used general-purpose, high-level programming language Its design philosophy emphasizes code readability, and its syntax allows programmers to express concepts in fewer lines of code than would be possible in languages such as C++ or Java.',\n",
       "  u'title': u'Python (programming language) - Wikipedia, the free encyclopedia'},\n",
       " {u'href': u'https://docs.python.org/',\n",
       "  u'snippet': u'Python 3.4.3 documentation. Welcome! This is the documentation for Python 3.4.3, last updated May 19, 2015. Parts of the documentation:',\n",
       "  u'title': u'Overview \\u2014 Python 3.4.3 documentation'},\n",
       " {u'href': u'http://www.codecademy.com/en/tracks/python',\n",
       "  u'snippet': u'This tutorial will introduce you to Python, a general-purpose, object-oriented interpreted language you can use for countless standalone projects or scripting applications.',\n",
       "  u'title': u'Python | Codecademy'},\n",
       " {u'href': u'http://download.cnet.com/Python/3000-2069_4-10080057.html',\n",
       "  u'snippet': u'From Python Software Foundation: Python is a object oriented programming language. Clean syntax, high-level data structures, dynamic typing, and rich support libraries combine to make Python a very productive tool for many types of programming.',\n",
       "  u'title': u'Python - Free download and software reviews - CNET Download.com'},\n",
       " {u'href': u'https://wiki.python.org/moin/',\n",
       "  u'snippet': u'Python combines remarkable power with very clear syntax. It has modules, classes, exceptions, very high level dynamic data types, and dynamic typing.',\n",
       "  u'title': u'FrontPage - Python Wiki'},\n",
       " {u'href': u'http://sourceforge.net/projects/python/',\n",
       "  u'snippet': u'Download Python. The Python programming language, an object-oriented scripting and rapid application development language. You can download it from http://www.python.org/do',\n",
       "  u'title': u'Python | SourceForge.net'},\n",
       " {u'href': u'https://developers.google.com/edu/python/',\n",
       "  u'snippet': u\"Welcome to Google's Python Class -- this is a free class for people with a little bit of programming experience who want to learn Python. The class includes written materials, lecture videos, and lots of code exercises to practice Python coding.\",\n",
       "  u'title': u\"Google's Python Class - Google for Education \\u2014 Google Developers\"},\n",
       " {u'href': u'http://pythoncarsecurity.com/',\n",
       "  u'snippet': u'Python\\xae Vehicle Remote Start and Security Systems Python has been one of the biggest names in vehicle security and remote start. Wherever cars are stolen, where winter roars and rages, consumers look to the security and convenience of Python - and year after year Python delivers! The popular ...',\n",
       "  u'title': u'Python - Home'},\n",
       " {u'href': u'http://www.reddit.com/r/python',\n",
       "  u'snippet': u'news about the dynamic, interpreted, interactive, object-oriented, extensible programming language Python. If you are about to ask a question, please consider r/learnpython.',\n",
       "  u'title': u'Python Sub-Reddit'},\n",
       " {u'href': u'https://pypi.python.org/pypi/pyserial',\n",
       "  u'snippet': u'Python Serial Port Extension. Package Documentation. Python Serial Port Extension for Win32, Linux, BSD, Jython, IronPython',\n",
       "  u'title': u'pyserial 2.7 : Python Package Index'},\n",
       " {u'href': u'http://www.britannica.com/EBchecked/topic/485284/python',\n",
       "  u'snippet': u'python, any of about 40 species of snakes, all but one of which are found in the Old World tropics and subtropics. Most are large, with the reticulated python (Python reticulatus) of Asia attaining a maximum recorded length of 9.6 metres (31.5 feet).',\n",
       "  u'title': u'python | snake group | Encyclopedia Britannica'},\n",
       " {u'href': u'http://dictionary.reference.com/browse/python?s=t',\n",
       "  u'snippet': u'noun 1. any of several Old World boa constrictors of the subfamily Pythoninae, often growing to a length of more than 20 feet (6 meters): the Indian python, Python molurus, is endangered.',\n",
       "  u'title': u'Python | Define Python at Dictionary.com'},\n",
       " {u'href': u'http://www.amazon.com/s?ie=UTF8&page=1&rh=i%3Aaps%2Ck%3Apython',\n",
       "  u'snippet': u'Learn Python or improve your skills. Check out these bestsellers from PyCon.',\n",
       "  u'title': u'Amazon.com: python'},\n",
       " {u'href': u'http://www.merriam-webster.com/dictionary/python',\n",
       "  u'snippet': u'Full Definition of PYTHON : any of various large constricting snakes (as a boa); especially : any of the large oviparous snakes (subfamily Pythoninae of the family Boidae) of Africa, Asia, Australia, and adjacent islands that include some of the largest existing snakes See python defined for ...',\n",
       "  u'title': u'Python | Definition of python by Merriam-Webster'},\n",
       " {u'href': u'http://www.imdb.com/title/tt0209264/',\n",
       "  u'snippet': u'Directed by Richard Clabaugh. With Frayne Rosanoff, Robert Englund, Casper Van Dien, William Zabka. After a military plane crash near a small American town, a giant man-eating snake set off on a killing spree. The locals must find a way to eliminate the snake with the help of a scientist who ...',\n",
       "  u'title': u'Python (TV Movie 2000) - IMDb'},\n",
       " {u'href': u'http://stackoverflow.com/questions/tagged/python',\n",
       "  u'snippet': u'Tour Start here for a quick overview of the site Help Center Detailed answers to any questions you might have',\n",
       "  u'title': u\"Newest 'python' Questions - Stack Overflow\"},\n",
       " {u'href': u'http://www.cnn.com/2014/02/06/us/florida-18-foot-python/index.html',\n",
       "  u'snippet': u'Story highlights. Florida work crew finds 18-foot Burmese python; Snake was about 8 inches shorter than longest ever captured; A state worker killed the snake, one of thousands plaguing South Florida',\n",
       "  u'title': u'18-foot python found in Florida - CNN.com'},\n",
       " {u'href': u'https://www.facebook.com/pythonlang',\n",
       "  u'snippet': u'Python. 106,221 likes \\xb7 157 talking about this. programming, the way Guido indented it',\n",
       "  u'title': u'Python | Facebook'},\n",
       " {u'href': u'http://www.learnpython.org/',\n",
       "  u'snippet': u'Welcome. Welcome to the LearnPython.org interactive Python tutorial. Whether you are an experienced programmer or not, this website is intended for everyone who wishes to learn the Python programming language.',\n",
       "  u'title': u'Learn Python - Free Interactive Python Tutorial'},\n",
       " {u'href': u'http://animals.nationalgeographic.com/animals/reptiles/burmese-python/',\n",
       "  u'snippet': u'Learn all you wanted to know about Burmese pythons with pictures, videos, photos, facts, and news from National Geographic.',\n",
       "  u'title': u'Burmese Python - National Geographic'},\n",
       " {u'href': u'http://www.afterhoursprogramming.com/tutorial/Python/Overview/',\n",
       "  u'snippet': u'The Python tutorial is constructed to teach you the fundamentals of the Python programming language. Eventually, the Python Tutorial will explain how to construct web applications, but currently, you will learn the basics of Python offline.',\n",
       "  u'title': u'Python Overview Tutorial - After Hours Programming'},\n",
       " {u'href': u'http://www.lynda.com/Python-3-tutorials/essential-training/62226-2.html',\n",
       "  u'snippet': u'Demonstrates how to use Python 3 to create well-designed scripts and maintain existing projects.',\n",
       "  u'title': u'Watch the Online Video Course Python 3 Essential Training'},\n",
       " {u'href': u'http://www.activestate.com/activepython',\n",
       "  u'snippet': u\"ActiveState's ActivePython is the industry-standard Python distribution available for Windows, Linux, Mac OS X, Solaris, AIX and HP-UX.\",\n",
       "  u'title': u'ActivePython is Python for Windows, Mac, Linux, AIX, HP-UX ...'},\n",
       " {u'href': u'http://pythonnet.sourceforge.net/',\n",
       "  u'snippet': u'Python for .NET. Python for .NET is a package that gives Python programmers nearly seamless integration with the .NET Common Language Runtime (CLR) and provides a powerful application scripting tool for .NET developers.',\n",
       "  u'title': u'Python for .NET'},\n",
       " {u'href': u'https://github.com/python-git/python',\n",
       "  u'snippet': u'Unofficial Python SVN auto-updating mirror. Contribute to python development by creating an account on GitHub.',\n",
       "  u'title': u'python-git/python \\xb7 GitHub'},\n",
       " {u'href': u'http://theor.mephi.ru/wiki/index.php?title=Python',\n",
       "  u'snippet': u'http://www.wag.caltech.edu/home/rpm/python_course/. \\u0412\\u0441\\u0442\\u0440\\u043e\\u0435\\u043d\\u043d\\u044b\\u0435 \\u0444\\u0443\\u043d\\u043a\\u0446\\u0438\\u0438 \\u0432 \\u041f\\u0438\\u0442\\u043e\\u043d\\u0435.',\n",
       "  u'title': u'Python \\u2014 theor'},\n",
       " {u'href': u'http://code.activestate.com/recipes/langs/python/',\n",
       "  u'snippet': u'Named Tuples (Python). Linear equations solver in 3 lines (Python). Creating a daemon the Python way (Python). (Python). Readable switch construction witho\\u2026',\n",
       "  u'title': u'Popular Python recipes \\xab ActiveState Code'},\n",
       " {u'href': u'http://www.java2s.com/Code/Python/CatalogPython.htm',\n",
       "  u'snippet': u'Python examples (example source code) Organized by topic. Python.',\n",
       "  u'title': u'Python examples (example source code) Organized by topic'},\n",
       " {u'href': u'http://www.newworldencyclopedia.org/entry/Python',\n",
       "  u'snippet': u\"One species, Python reticulatus, the reticulated python, is probably the world's longest snake, with largest commonly cited maximum a specimen being 10.1 meters (33 feet).\",\n",
       "  u'title': u'Python - New World Encyclopedia'},\n",
       " {u'href': u'http://xml.coverpages.org/xmlPython.html',\n",
       "  u'snippet': u'The XML.com Column: Python and XML \"Python has long been a popular language for developing XML applications. Python and XML expert Uche Ogbuji gives...',\n",
       "  u'title': u'Cover Pages: XML and Python'},\n",
       " {u'href': u'http://encyclopedia2.thefreedictionary.com/Python',\n",
       "  u'snippet': u'The reticulated, or royal, python, Python reticulatus, of SE Asia, Indonesia, and the Philippines is one of the largest snakes in the world and may reach a length of 30 ft (9 m) or more.',\n",
       "  u'title': u'Python definition of Python in the Free Online Encyclopedia'},\n",
       " {u'href': u'http://www.webmonkey.com/2010/02/get_started_with_python/',\n",
       "  u'snippet': u\"The scripting language Python is named after the Monty Python British Comedy series, although the language takes after its reptilian namesake as well \\u2014 it's simple by design, yet flexible and powerful.\",\n",
       "  u'title': u'Get Started With Python - Webmonkey'},\n",
       " {u'href': u'http://bytes.com/topic/python/',\n",
       "  u'snippet': u'Latest Python topics from Bytes community of Python experts and professionals. How to stop wkhtmltopdf.exe pop-up while running it with Python.',\n",
       "  u'title': u'Python Forum - Bytes'},\n",
       " {u'href': u'https://code.google.com/p/python-twitter/',\n",
       "  u'snippet': u'Author: The Python-Twitter Developers <python-twitter@googlegroups.com>. This library provides a pure Python interface for the Twitter API.',\n",
       "  u'title': u'python-twitter - A python wrapper around the Twitter API - Google...'},\n",
       " {u'href': u'http://modpython.org/python10/',\n",
       "  u'snippet': u'Mod_Python - Integrating Python with Apache. Gregory Trubetskoy. Mod_python aims to provide direct access to the riches of this functionality for Python developers.',\n",
       "  u'title': u'Python vs C'},\n",
       " {u'href': u'http://www.faqs.org/faqs/python-faq/part1/',\n",
       "  u'snippet': u\"1. General information and availability 2. Python in the real world 3. Building Python and Other Known Bugs 4. Programming in Python 5. Extending Python 6. Python's design 7. Using Python on...\",\n",
       "  u'title': u'FAQ: Python -- an object-oriented language'},\n",
       " {u'href': u'http://www.toptal.com/python',\n",
       "  u'snippet': u\"Martin has worked as a professional Python developer since 2007, although his career in IT began in 2001. The Insider's Guide to Python Interviewing.\",\n",
       "  u'title': u'Top 10 Python Developers for Hire in May 2015'},\n",
       " {u'href': u'http://wiki.dreamhost.com/Python',\n",
       "  u'snippet': u'Python is a programming language like PHP and Ruby which allows you to create many different types of applications. More information can be found on the Python website below: https://www.python.org/about/. This article guides you through how to set up your environment at DreamHost to use Python.',\n",
       "  u'title': u'Python - DreamHost'},\n",
       " {u'href': u'https://upload.wikimedia.org/wikipedia/commons/9/91/Python_Programming.pdf',\n",
       "  u'snippet': u'Contents 1 2 Overview Getting Python 2.1 Python 2 vs Python 3 Interactive mode Creating Python programs Basic syntax Data types Numbers Strings 8.1 String operations 8.2 String constants .',\n",
       "  u'title': u'PDF Python Programming'},\n",
       " {u'href': u'https://en.wiktionary.org/wiki/python',\n",
       "  u'snippet': u'Noun. python m (plural pythons). \"python\" in le Tr\\xe9sor de la langue fran\\xe7aise informatis\\xe9 (The Digitized Treasury of the French Language).',\n",
       "  u'title': u'python - Wiktionary'},\n",
       " {u'href': u'http://schools-wikipedia.org/wp/p/Python.htm',\n",
       "  u'snippet': u\"Spotted Python, Antaresia maculosa ( Peters, 1873). Pygmy Python, Antaresia perthensis ( Stull, 1932). D'Albert's Python or White-lipped Python, Leiopython albertisii ( Peters & Doria, 1878).\",\n",
       "  u'title': u'Python - from the 2006 Schools Wikipedia CD'},\n",
       " {u'href': u'http://www.wikihow.com/Learn-The-Python-Language',\n",
       "  u'snippet': u'How to Start Programming in Python. Do you want to start learning how to program? Getting into computer programming can be daunting, and you may think that you need to take classes in order to learn.',\n",
       "  u'title': u'How to Start Programming in Python: 15 Steps (with Pictures)'},\n",
       " {u'href': u'https://wiki.debian.org/Python',\n",
       "  u'snippet': u'Python, the high-level, interactive object oriented language, includes an Debian always provides at least two versions of Python, the latest stable Python 2 release, and the latest stable Python 3 release.',\n",
       "  u'title': u'Python - Debian Wiki'},\n",
       " {u'href': u'http://www.pythonforbeginners.com/',\n",
       "  u'snippet': u'Python Websites Tutorials Learn Python in 10 minutes Python for Beginners Python Documentation Index Welcome to Python for you and me Python Articles Dive Into Python Hyperpolyglot Learn X in Y ...',\n",
       "  u'title': u'Pythonforbeginners.com - Learn Python by Example'},\n",
       " {u'href': u'http://search.cpan.org/dist/Inline-Python/Python.pod',\n",
       "  u'snippet': u'The Inline::Python module allows you to put Python source code directly \"inline\" in a Perl script or module. It sets up an in-process Python interpreter, runs your code, and then examines Python\\'s...',\n",
       "  u'title': u'Inline::Python - search.cpan.org'},\n",
       " {u'href': u'http://docs.python-guide.org/en/latest/dev/env/',\n",
       "  u'snippet': u'There are a couple of plugins and settings for the Vim editor to aid Python development. If you only develop in Python, a good start is to set the default settings for indentation and...',\n",
       "  u'title': u\"Your Development Environment \\u2014 The Hitchhiker's Guide to Python\"},\n",
       " {u'href': u'http://everything2.com/title/Python',\n",
       "  u'snippet': u'Why Python? Cardinal Biggles had Eric, the infidel, in the comfy chair for over four hours before wringing this confession from him...',\n",
       "  u'title': u'Python - Everything2.com'},\n",
       " {u'href': u'http://www.onlamp.com/python/',\n",
       "  u'snippet': u'Hi, I have a windows 7 computer, and I am having trouble getting the command prompt in windows to work with python. Whenever I try to run a script file in the command prompt...',\n",
       "  u'title': u'ONLamp.com'},\n",
       " {u'href': u'http://www.youtube.com/user/MontyPython',\n",
       "  u'snippet': u\"Welcome to the official Monty Python YouTube channel. This is the place to find top quality classic Python videos, as well as some special stuff that you'll only find here - such as interviews and...\",\n",
       "  u'title': u'Monty Python - YouTube'},\n",
       " {u'href': u'http://codingbat.com/python',\n",
       "  u'snippet': u'Python Python practice problems. Warmup-1 Simple warmup problems to get started, no loops (solutions available) sleep_in H monkey_trouble H sum_double H more.',\n",
       "  u'title': u'CodingBat Python'},\n",
       " {u'href': u'http://www.greenteapress.com/pythonhydro/pythonhydro.pdf',\n",
       "  u'snippet': u'Python In Hydrology Version 0.0.0 Sat Kumar Tomer Copyright \\xa9 2011 Sat Kumar Tomer. I came across Python and Perl, though there might be many more options available.',\n",
       "  u'title': u'PDF Python'},\n",
       " {u'href': u'http://docs.travis-ci.com/user/languages/python/',\n",
       "  u'snippet': u'Default Python Version. If you leave the python key out of your .travis.yml, Travis CI will use Python 2.7. Specifying Test Script. Python projects need to provide script key in their...',\n",
       "  u'title': u'Travis CI: Building a Python Project'},\n",
       " {u'href': u'http://c2.com/cgi/wiki?PythonVsRuby',\n",
       "  u'snippet': u\"Here's Python's equivalent: a = [] for x in range(3): for y in range(3): if x != y: a += [(x,y)]. List comprehensions are clearly better for this kind of thing, however.\",\n",
       "  u'title': u'Python Vs Ruby'},\n",
       " {u'href': u'http://portablepython.com/',\n",
       "  u'snippet': u'Portable Python is a Python\\xae programming language pre-configured to run directly on the Windows OS from any USB storage device, enabling you to have, at any time...',\n",
       "  u'title': u'Portable Python - Portable Python'},\n",
       " {u'href': u'http://www.diveintopython.net/installing_python/',\n",
       "  u'snippet': u\"The first thing you need to do with Python is install it. Or do you? If you're using an account on a hosted server, your ISP may have already installed Python.\",\n",
       "  u'title': u'Chapter 1. Installing Python'},\n",
       " {u'href': u'https://wiki.freeswitch.org/wiki/Mod_python',\n",
       "  u'snippet': u'Getting Started. Building mod_python. Install python-dev package. apt-get install python python-dev. Enable compilation in modules.conf.',\n",
       "  u'title': u'Mod python - FreeSWITCH Wiki'},\n",
       " {u'href': u'http://wolfpaulus.com/jounal/mac/installing_python_osx/',\n",
       "  u'snippet': u'1. Downloading and Installing the latest Python Release. Moreover, /usr/bin/python still executes python 2.7.1., i.e. some work still needs to be done to really update Python on your Mac.',\n",
       "  u'title': u'Installing / Updating Python on OS X | Wolf Paulus'},\n",
       " {u'href': u'http://voices.canonical.com/tag/python3/',\n",
       "  u'snippet': u\"Anyway, those details aren't the focus of this article. Instead, just realize that because it's a pile of new code, and because we want to rid ourselves of Python 2...\",\n",
       "  u'title': u'Canonical Voices'},\n",
       " {u'href': u'http://www.gimp.org/docs/python/',\n",
       "  u'snippet': u'GIMP-Python is a scripting extension for GIMP, similar to Script-Fu. GIMP-python consists of a Python module written in C and some native python support modules.',\n",
       "  u'title': u'GIMP Python Documentation'},\n",
       " {u'href': u'http://www.rasterbar.com/products/libtorrent/python_binding.html',\n",
       "  u'snippet': u'On other systems, the setup.py is generated by running ./configure --enable-python-binding. To build the Python bindings do',\n",
       "  u'title': u'libtorrent python binding'},\n",
       " {u'href': u'http://people.csail.mit.edu/kapu/symbian/python.html',\n",
       "  u'snippet': u'If you have several Python implementations installed, you may get problems. For example, if you have both the python.org Python, and the cygwin Python...',\n",
       "  u'title': u'S60 Python'},\n",
       " {u'href': u'http://www.linuxjournal.com/article/3882',\n",
       "  u'snippet': u\"My first look at Python was an accident, and I didn't much like what I saw at the time. It was early 1997, and Mark Lutz's book Programming Python from O'Reilly & Associates had recently come out.\",\n",
       "  u'title': u'Why Python? | Linux Journal'},\n",
       " {u'href': u'http://www.ibiblio.org/g2swap/byteofpython/files/120/byteofpython_120.pdf',\n",
       "  u'snippet': u'A Byte of Python Swaroop C H A Byte of Python Swaroop C H Copyright \\xa9 2003-2005 Swaroop C H Abstract This book will help you to learn the Python programming language...',\n",
       "  u'title': u'PDF A Byte of Python'},\n",
       " {u'href': u'http://learnpythonthehardway.org/book/ex0.html',\n",
       "  u'snippet': u'It is simply the exercise you complete to get your computer to run Python. For example, Mac OS X computers already have Python 2, so do not install Python 3 (or any Python).',\n",
       "  u'title': u'Learn Python The Hard Way'},\n",
       " {u'href': u'http://python.about.com/',\n",
       "  u'snippet': u'Python is one of the most powerful and popular dynamic languages in use today and is easy to learn. Let About.com send you the latest from our Python Expert.',\n",
       "  u'title': u'Learn Python - Tutorials and Tips'},\n",
       " {u'href': u'http://lua-users.org/wiki/LuaVersusPython',\n",
       "  u'snippet': u'Python [1] is a popular programming language. Both Python and Lua are commonly embedded in applications to provide scripting support.',\n",
       "  u'title': u'lua-users wiki: Lua Versus Python'},\n",
       " {u'href': u'http://www.python-excel.org/',\n",
       "  u'snippet': u'There are python packages available to work with Excel files that will run on any Python platform and that do not require either Windows or Excel to be used.',\n",
       "  u'title': u'A website for people who need to work with Excel files in Python'},\n",
       " {u'href': u'http://anh.cs.luc.edu/python/hands-on/3.1/Hands-onPythonTutorial.pdf',\n",
       "  u'snippet': u'1 Hands-on Python Tutorial, Release 1.0 for Python Version 3.1+ 1.1.2 Why Python There are many high-level languages. The language you will be learning is Python.',\n",
       "  u'title': u'PDF Hands-on Python Tutorial'},\n",
       " {u'href': u'https://developer.mozilla.org/en-US/docs/Python',\n",
       "  u'snippet': u'Python is an interpreted scripting language available on a wide variety of platforms, including Linux, Mac OS X, and Microsoft Windows.',\n",
       "  u'title': u'Python | MDN | Mozilla Developer Network'},\n",
       " {u'href': u'http://pythonhackers.com/os',\n",
       "  u'snippet': u'Top Python Projects, most popular Python projects, favourite Python projects. Looking for Python Tutorials? Check these awesome tutorials.',\n",
       "  u'title': u'Top Python Projects - Hackersome'},\n",
       " {u'href': u'http://www.voidspace.org.uk/ironpython/python-for-programmers.shtml',\n",
       "  u'snippet': u'IronPython is an implementation of the popular open source programming language Python for the .NET framework. Python has much in common with C#.',\n",
       "  u'title': u'Python for .NET Programmers'},\n",
       " {u'href': u'http://www.emacswiki.org/PythonProgrammingInEmacs',\n",
       "  u'snippet': u'Browse the Python Documentation using Info. To browse the new Python documentation using Info, you will need the necessary Info files.',\n",
       "  u'title': u'EmacsWiki: Python Programming In Emacs'},\n",
       " {u'href': u'http://sdk.luxology.com/wiki/Python',\n",
       "  u'snippet': u'Python is a powerful object-oriented scripting language that is available on every platform and has extensive community support.The official Python documentation can be found at www.python.org. As with macros, Python uses commands to interact with modo, but unlike macros...',\n",
       "  u'title': u'Python - The Foundry MODO SDK wiki'},\n",
       " {u'href': u'http://www.worldofballpythons.com/python-regius/care-sheet/',\n",
       "  u'snippet': u'Care Sheet for Ball Python - Python Regius. It is critically important to have your enclosure complete and ready for your ball python before bringing it home.',\n",
       "  u'title': u'Care Sheet - Python regius - World of Ball Pythons'},\n",
       " {u'href': u'http://www.filehippo.com/download_python/',\n",
       "  u'snippet': u'Python runs on Windows, Linux/Unix, Mac OS X, OS/2, Amiga, Palm Handhelds, and Nokia mobile phones. Python has also been ported to the Java and .NET virtual machines.',\n",
       "  u'title': u'Download Python 3.4.3 - FileHippo.com'},\n",
       " {u'href': u'http://www.dotnetperls.com/if-python',\n",
       "  u'snippet': u'Python. If-statements. A selection statement changes the flow of control. It acts upon a value. The if-statement in Python is a core selection statement.',\n",
       "  u'title': u'Python If Examples: Elif, Else'},\n",
       " {u'href': u'https://dea.googlecode.com/files/python_note.pdf',\n",
       "  u'snippet': u'173 3.11-10 poplib 4.5-1 tkFont 4.6-2 4.6-3 annCharles@tom.com vii , 191 Python annCharles@tom.com viii , 191 Python Python python python eval VB neer Lisp EVAL Emacs (module) \" Python OO?',\n",
       "  u'title': u'PDF Python'},\n",
       " {u'href': u'http://www.opensource.apple.com/source/python/python-4.2/python/Doc/python-docs.txt',\n",
       "  u'snippet': u'python-docs.txt [plain text]. This message is being sent in response to your message to the Python documentation maintainers (python-docs@python.org).',\n",
       "  u'title': u'python-docs.txt'},\n",
       " {u'href': u'https://pythonconquerstheuniverse.wordpress.com/category/java-and-python/',\n",
       "  u'snippet': u\"This post is about Java, and has nothing to do with Python. I've posted it here so that it can be available to other folks who might find it useful. (And because I don't have a Java blog!)\",\n",
       "  u'title': u'Java and Python | Python Conquers The Universe'},\n",
       " {u'href': u'http://grasswiki.osgeo.org/wiki/GRASS_and_Python',\n",
       "  u'snippet': u'Python is a programming language which is more powerful than shell scripting but easier and more forgiving than C. The Python script can contain simple module description definitions which will be processed with g.parser, as shown in the example below.',\n",
       "  u'title': u'GRASS and Python - GRASS-Wiki'},\n",
       " {u'href': u'http://refcardz.dzone.com/refcardz/core-python',\n",
       "  u'snippet': u'Python is an interpreted dynamically typed Language. Python comes in two basic flavors these days - Python 2.x (currently 2.7) and Python 3.x (currently 3.3).',\n",
       "  u'title': u'Core Python Cheat Sheet from DZone Refcardz - Free, professional...'},\n",
       " {u'href': u'http://undefined.org/python',\n",
       "  u'snippet': u'simplejson is compatible with Python 2.6 and later with no external dependencies. It covers the full JSON specification for both encoding and decoding, with unicode support.',\n",
       "  u'title': u'Python Stuff'},\n",
       " {u'href': u'http://anandology.com/python-practice-book/getting-started.html',\n",
       "  u'snippet': u'1.1. Running Python Interpreter\\xb6. When you type python in your shell or command prompt, the python interpreter becomes active with a >>> prompt and waits for your commands.',\n",
       "  u'title': u'1. Getting Started \\u2014 Python Practice Book'},\n",
       " {u'href': u'https://fedoraproject.org/wiki/Features/Python_2.7',\n",
       "  u'snippet': u'Python is pervasive in Fedora. Everything from yum to system-config-* to anaconda to pungi is written in Python. Comments and Discussion. See Talk:Features/Python_2.7.',\n",
       "  u'title': u'Features/Python 2.7 - FedoraProject'},\n",
       " {u'href': u'http://slav0nic.org.ua/static/books/python/pythonbook-2.5.pdf',\n",
       "  u'snippet': u\"Building Skills in Python A Programmer's Introduction to Python Steven F. Lott Copyright \\xa9 2002, 2005, 2007, 2008 Steven F. Lott This work is licensed under a Creative Commons License.\",\n",
       "  u'title': u'PDF Building Skills in Python'},\n",
       " {u'href': u'http://www.astro.ufl.edu/~warner/prog/python.html',\n",
       "  u'snippet': u'About Python: Python is a high level scripting language with object oriented features. Otherwise, python programs can be run from a command prompt by typing python file.py.',\n",
       "  u'title': u'Python Basics'},\n",
       " {u'href': u'http://www.mobilenin.com/pys60/resources/API_Reference_for_Python.pdf',\n",
       "  u'snippet': u'Selected Issues on Python Programming for Series 60. Concurrency Aspects. Current Series 60 Python Script Execution Environment. Standard I/O Streams.',\n",
       "  u'title': u'PDF Python for Series 60 Platform'},\n",
       " {u'href': u'http://animaldiversity.org/accounts/Python_regius/',\n",
       "  u'snippet': u'Ball pythons (Python regius), also known as royal pythons, are found in the grasslands and open forests of West and Central Africa.',\n",
       "  u'title': u'ADW: Python regius: INFORMATION | Animal Diversity Web'},\n",
       " {u'href': u'http://opensource.org/licenses/Python-2.0',\n",
       "  u'snippet': u'Python License, Version 2 (Python-2.0). 2002, 2003, 2004, 2005, 2006 Python Software Foundation; All Rights Reserved\" are retained in Python alone or in any derivative version prepared by Licensee.',\n",
       "  u'title': u'Python License (Python-2.0) | Open Source Initiative'},\n",
       " {u'href': u'http://animals.sandiegozoo.org/animals/python',\n",
       "  u'snippet': u'One rock python was even found to have a small leopard in its stomach! At the San Diego Zoo, our pythons are offered thawed rodents and rabbits.',\n",
       "  u'title': u'Python | San Diego Zoo Animals'},\n",
       " {u'href': u'http://www.linuxfocus.org/~guido/vi/vim-help/if_python.html',\n",
       "  u'snippet': u'*if_python.txt* For Vim version 5.3. Last modification: 1998 May 10. In the case of :python, the code to execute is specified on the command-line.',\n",
       "  u'title': u'if_python.txt - html version'},\n",
       " {u'href': u'http://labix.org/python-dateutil',\n",
       "  u'snippet': u'Ported to Python 3, by Brian Jones. If you need dateutil for Python 2.X, please continue using the 1.X series. There\\'s no such thing as a \"PSF License\".',\n",
       "  u'title': u'python-dateutil - Labix'},\n",
       " {u'href': u'http://getpython3.com/',\n",
       "  u'snippet': u'Although most Python code is currently written for Python 2.x, Python 3.x is the present and future of the language. Python 2.7.6 was released in November 2013.',\n",
       "  u'title': u'getpython3.com | Python 3 Porting Trackers'},\n",
       " {u'href': u'http://micropython.org/',\n",
       "  u'snippet': u'Micro Python was at PyCon UK 2014. You can watch the videos of the two talks that were presented',\n",
       "  u'title': u'MicroPython - Python for microcontrollers'},\n",
       " {u'href': u'https://developer.yahoo.com/python/',\n",
       "  u'snippet': u'Python is a dynamic object-oriented programming language that can be used for many kinds of software development. This site is your source for information about using Python with Yahoo!',\n",
       "  u'title': u'Python Developer Center - Yahoo! Developer Network'},\n",
       " {u'href': u'http://trac.edgewall.org/wiki/TracModPython',\n",
       "  u'snippet': u\"Setting up multiple projects. The Trac mod_python handler supports a configuration option similar to Subversion's SvnParentPath, called TracEnvParentDir\",\n",
       "  u'title': u'TracModPython - The Trac Project | Setting the Python Egg Cache'},\n",
       " {u'href': u'http://reptile-database.reptarium.cz/species?genus=Python&species=molurus',\n",
       "  u'snippet': u'Python molurus \\u2014 DUM\\xc9RIL & BIBRON 1844: 417 P.[ython] trivittatus JERDON 1854: 526 (in error for Python bivittatus KUHL) Python molurus \\u2014 BOULENGER 1893: 87 Python molurus var...',\n",
       "  u'title': u'Python molurus | The Reptile Database'},\n",
       " {u'href': u'http://www.pythonware.com/products/pil/',\n",
       "  u'snippet': u'The Python Imaging Library (PIL) adds image processing capabilities to your Python interpreter. This library supports many file formats, and provides powerful image processing and graphics capabilities.',\n",
       "  u'title': u'Python Imaging Library (PIL)'},\n",
       " {u'href': u'http://www.programcreek.com/2012/04/java-vs-python-why-python-can-be-more-productive/',\n",
       "  u'snippet': u'Some people have claimed that Python is more productive than Java. In contrast, Python is dynamically typed, which means declaration is not required.',\n",
       "  u'title': u'Java vs. Python: Why Python can be more productive?'},\n",
       " {u'href': u'http://www.montypythonlive.com/',\n",
       "  u'snippet': u\"Comic legends Monty Python to reunite for live shows at London's O2 Arena in July 2013.\",\n",
       "  u'title': u'Monty Python Live (mostly)'},\n",
       " {u'href': u'http://www.fredshack.com/docs/pythonweb.html',\n",
       "  u'snippet': u'From comp.lang.python: \"A long running process has lots of benefits that makes design and development easier and makes your app faster.',\n",
       "  u'title': u'Web development with Python'},\n",
       " {u'href': u'http://sealedabstract.com/rants/python-3-is-fine/',\n",
       "  u'snippet': u\"There has been a slow chorus of poor anti-Python 3 articles lately. Today's was Python 3 is killing Python. So if you want to read something negative about Python 3 go read that.\",\n",
       "  u'title': u'Python 3 is fine | Sealed Abstract'},\n",
       " {u'href': u'https://en.wikiversity.org/wiki/Python',\n",
       "  u'snippet': u'Official Python tutorial - The official Python tutorial from the Python Software Foundation. Invent Your Own Computer Games with Python...',\n",
       "  u'title': u'Python - Wikiversity'},\n",
       " {u'href': u'http://www.learningpython.com/',\n",
       "  u'snippet': u\"A weblog tracking one man's journey into Python.\",\n",
       "  u'title': u'Learning Python'},\n",
       " {u'href': u'http://www.softpanorama.org/Scripting/python.shtml',\n",
       "  u'snippet': u'Python is the language influenced by Perl, but incorporating some European and, more specifically, Niklaus Wirth ideas about programming languages.',\n",
       "  u'title': u'Python -- Scripting language with generators'},\n",
       " {u'href': u'https://wiki.archlinux.org/index.php/Python',\n",
       "  u'snippet': u'Python is a widely used general-purpose, high-level programming language. Its design philosophy emphasizes code readability, and its syntax allows programmers to express concepts in fewer lines of code than would be possible in languages such as C. The language provides constructs intended...',\n",
       "  u'title': u'Python - ArchWiki'},\n",
       " {u'href': u'http://www.microsoft.com/en-us/download/details.aspx?id=44266',\n",
       "  u'snippet': u'This package contains the compiler and set of system headers necessary for producing binary wheels for Python 2.7 packages.',\n",
       "  u'title': u'Download Microsoft Visual C++ Compiler for Python 2.7 from Official...'},\n",
       " {u'href': u'http://www.pyzo.org/python_vs_matlab.html',\n",
       "  u'snippet': u\"The scientific Python ecosystem is maturing fast and Python is an appealing alternative, because it's free, open source, and becoming ever more powerful.\",\n",
       "  u'title': u'Python vs Matlab \\u2014 Pyzo - Python to the people'},\n",
       " {u'href': u'http://showmedo.com/videotutorials/python',\n",
       "  u'snippet': u'Using the Python Interpreter. Popular Series. Python GUI Programming with wxPython. Python 101 - easygui and csv. Python Beginners - Common Variables and Containers.',\n",
       "  u'title': u'Python Videos, Tutorials and Screencasts'},\n",
       " {u'href': u'http://inventwithpython.com/bookshelf/',\n",
       "  u'snippet': u'(Python, python cookbook, python programming, Python Development, python 3, python in a day, python for kids): Python [Kindle Edition].',\n",
       "  u'title': u'inventwithpython.com/bookshelf/'},\n",
       " {u'href': u'http://groups.engin.umd.umich.edu/CIS/course.des/cis400/python/python.html',\n",
       "  u'snippet': u'Python is a very new language; in fact it was released by its designer, Guido Van Rossum, in February 1991 while working for CWI also known as Stichting Mathematisch Centrum.',\n",
       "  u'title': u'The Python Programming Language'},\n",
       " {u'href': u'http://opensource.com/life/14/9/why-python-4-wont-be-python-3',\n",
       "  u'snippet': u'Newcomers to python-ideas occasionally make reference to the idea of \"Python 4000\" when proposing After all, we allowed that kind of change for Python 3.0, so why wouldn\\'t we allow it for Python 4.0?',\n",
       "  u'title': u\"Why Python 4.0 won't be like Python 3.0 | Opensource.com\"},\n",
       " {u'href': u'http://www.roguebasin.com/index.php?title=Python',\n",
       "  u'snippet': u'\"Python is an interpreted, interactive, object-oriented programming language. It incorporates modules, exceptions, dynamic typing, very high level dynamic data types, and classes. Python combines remarkable power with very clear syntax.',\n",
       "  u'title': u'Python - RogueBasin'},\n",
       " {u'href': u'http://www.devshed.com/c/a/python/python-unzipped/',\n",
       "  u'snippet': u'Python is a great choice for anyone wanting to play with the increasingly popular ZIP or GZIP (not covered here) file formats, and as usual Python makes it surprisingly fun/easy!',\n",
       "  u'title': u'Python UnZipped - devshed'},\n",
       " {u'href': u'http://wiki.openmoko.org/wiki/Python',\n",
       "  u'snippet': u'Python is a programming language which is applicable to scripting phone functionalities and graphical user interfaces. Currently, at least SettingsGUI, SMSTool and MokoMenu use it. There is also Python ncurses for character user interfaces. Manually using Bluetooth is partially based on using Python.',\n",
       "  u'title': u'Python - Openmoko'},\n",
       " {u'href': u'http://www.vogella.com/tutorials/Python/article.html',\n",
       "  u'snippet': u'This article describes how to write and debug Python programs with Eclipse. This article is based on Eclipse 4.3, Python 3.3.1 and PyDev version 2.7.3.',\n",
       "  u'title': u'Python Development with PyDev and Eclipse - Tutorial'},\n",
       " {u'href': u'http://wikipedia.or.ke/index.php/Monty_Python',\n",
       "  u'snippet': u\"Template:Use dmy dates Template:Infobox comedian. Monty Python (sometimes known as The Pythons) <ref> Wilmut (1980), p. 250. </ref> <ref> The Pythons by 'The Pythons', ISBN -7528-5293-. </ref> was a British surreal comedy group that created Monty Python's Flying Circus...\",\n",
       "  u'title': u'Monty Python - Wikipedia'},\n",
       " {u'href': u'https://docs.djangoproject.com/en/1.6/topics/python3/',\n",
       "  u'snippet': u'Django 1.5 is the first version of Django to support Python 3. The same code runs both on Python 2 (\\u2265 2.6.5) and Python 3 (\\u2265 3.2), thanks to the six compatibility layer.',\n",
       "  u'title': u'Porting to Python 3 | Django documentation | Django'},\n",
       " {u'href': u'http://www.pythoncentral.io/best-text-editors-for-python-development/',\n",
       "  u'snippet': u'Python is such a popular language that most \"programmers\\' text editors\" have at least rudimentary support, including syntax highlighting. But there are several editors that have especially good support. I\\'ve tested the following editors, presented in alphabetical order, as most are fine choices: Emacs. Geany.',\n",
       "  u'title': u'Best Text Editors for Python development'},\n",
       " {u'href': u'http://www.bogotobogo.com/python/python_subprocess_module.php',\n",
       "  u'snippet': u\"We cannot use UNIX commands in our Python script as if they were Python code. So, in Python script, we're using print name instead.\",\n",
       "  u'title': u'Python Tutorial: subprocesses module - 2015'},\n",
       " {u'href': u'http://www.norvig.com/python-lisp.html',\n",
       "  u'snippet': u\"This is a brief introduction to Python for Lisp programmers. (Although it wasn't my intent, Python programers have told me this page has helped them learn Lisp.)\",\n",
       "  u'title': u'Python for Lisp Programmers'},\n",
       " {u'href': u'http://wiki.laptop.org/go/Python',\n",
       "  u'snippet': u'Python is a programming language. You can find out more about Python on the web or by reading the article on wikipedia [2]. The majority of the Sugar environment is written with the OLPC Python Environment. Python is a typical interpreted language. (It tokenizes the code at program start-up.',\n",
       "  u'title': u'Python - OLPC'},\n",
       " {u'href': u'https://registry.hub.docker.com/_/python/',\n",
       "  u'snippet': u'Python is an interpreted, interactive, object-oriented, open-source programming language. Python combines remarkable power with very clear syntax.',\n",
       "  u'title': u'python Repository | Docker Hub Registry - Repositories of Docker...'},\n",
       " {u'href': u'http://content.gpwiki.org/Python',\n",
       "  u'snippet': u'Python is an interpreted language. The interpreter is open-source. A good range of libraries exist.',\n",
       "  u'title': u'Python - GPWiki'},\n",
       " {u'href': u'http://python3porting.com/problems.html',\n",
       "  u'snippet': u\"If you need to support both Python 2 and Python 3 it's quite likely that you will need to make conditional code depending on the Python version.\",\n",
       "  u'title': u'Common migration problems \\u2014 Porting to Python 3 - The Book Site'},\n",
       " {u'href': u'http://blog.dispatched.ch/2009/05/24/vim-as-python-ide/',\n",
       "  u'snippet': u\"Finding the perfect IDE for Python isn't an easy feat. This is where we are going: So, these are my thoughts on a VIM setup for coding (Python).\",\n",
       "  u'title': u'VIM as Python IDE | Munen Alain M. Lafon'},\n",
       " {u'href': u'http://www.pythonweekly.com/',\n",
       "  u'snippet': u'\"Python Weekly is Awesome with a capital \\'A\\'. Every week I find a couple articles/projects worthy of being fwd on to my team of ten Python Engineers.',\n",
       "  u'title': u'Python Weekly: A Free, Weekly Python E-mail Newsletter'},\n",
       " {u'href': u'http://cython.org/',\n",
       "  u'snippet': u'It makes writing C extensions for Python as easy as Python itself. Cython gives you the combined power of Python and C to let you.',\n",
       "  u'title': u'Cython: C-Extensions for Python'},\n",
       " {u'href': u'http://www.onlineprogrammingbooks.com/python/',\n",
       "  u'snippet': u'Download \"Design Patterns in Python\" in pdf format or read it online. If you are a beginner to learning Python or design patterns, this book can prove to be a very easy-to-understand introductory text.',\n",
       "  u'title': u'Free Python Books : PDF Download'},\n",
       " {u'href': u'http://hackercodex.com/guide/python-development-environment-on-mac-osx/',\n",
       "  u'snippet': u'For details, please follow the steps in the Mavericks Configuration Guide. Python. We are going to install the latest 2.7.x version of Python via Homebrew.',\n",
       "  u'title': u'Python Development Environment on Mac OS X Mavericks...'}]"
      ]
     },
     "execution_count": 34,
     "metadata": {},
     "output_type": "execute_result"
    }
   ],
   "source": [
    "results"
   ]
  },
  {
   "cell_type": "markdown",
   "metadata": {},
   "source": [
    "#Browser in docker runs RedditPage. "
   ]
  },
  {
   "cell_type": "code",
   "execution_count": 56,
   "metadata": {
    "collapsed": true
   },
   "outputs": [],
   "source": [
    "import reddit_page\n",
    "reload(reddit_page)\n",
    "from reddit_page import RedditPage"
   ]
  },
  {
   "cell_type": "code",
   "execution_count": 57,
   "metadata": {
    "collapsed": false
   },
   "outputs": [],
   "source": [
    "redditPage = RedditPage(worker.browser)"
   ]
  },
  {
   "cell_type": "code",
   "execution_count": 58,
   "metadata": {
    "collapsed": false
   },
   "outputs": [],
   "source": [
    "redditPage.goto_subreddit(\"r/python\")"
   ]
  },
  {
   "cell_type": "code",
   "execution_count": 59,
   "metadata": {
    "collapsed": false
   },
   "outputs": [],
   "source": [
    "results = redditPage.get_reddit_titles()"
   ]
  },
  {
   "cell_type": "code",
   "execution_count": 60,
   "metadata": {
    "collapsed": false
   },
   "outputs": [
    {
     "data": {
      "text/plain": [
       "[{u'score': u'44',\n",
       "  u'title': u'When will logging use new-style string formatting?',\n",
       "  u'url': u'/r/Python/comments/387oog/when_will_logging_use_newstyle_string_formatting/'},\n",
       " {u'score': u'28',\n",
       "  u'title': u'Explore code quality of 8,377 Python projects',\n",
       "  u'url': u'https://www.quantifiedcode.com/app/explore'},\n",
       " {u'score': u'8',\n",
       "  u'title': u'helpful country data in JSON formats',\n",
       "  u'url': u'https://github.com/samayo/country.json/tree/master/src'},\n",
       " {u'score': u'2',\n",
       "  u'title': u'Must-watch videos about Python',\n",
       "  u'url': u'https://github.com/s16h/py-must-watch'},\n",
       " {u'score': u'23',\n",
       "  u'title': u'Wow, argh rules (so easy to make a cli)...',\n",
       "  u'url': u'https://github.com/hayd/leanpub/blob/bd36b6712ce4c584554532ec1e4b69bbe3102c51/leanpub/__main__.py#L28-L36'},\n",
       " {u'score': u'10',\n",
       "  u'title': u'distutils vs setuptools?',\n",
       "  u'url': u'/r/Python/comments/3882rh/distutils_vs_setuptools/'},\n",
       " {u'score': u'155',\n",
       "  u'title': u'Philip Guo - CPython internals: A ten-hour codewalk through the Python interpreter source code',\n",
       "  u'url': u'http://pgbovine.net/cpython-internals.htm'},\n",
       " {u'score': u'\\u2022',\n",
       "  u'title': u'Trying to define a class which can optionally use __slots__ according to a runtime variable',\n",
       "  u'url': u'/r/Python/comments/38alfw/trying_to_define_a_class_which_can_optionally_use/'},\n",
       " {u'score': u'8',\n",
       "  u'title': u'A conversation with Harry Percival about Python TDD and PythonAnywhere',\n",
       "  u'url': u'http://www.talkpythontome.com/episodes/show/10/bringing-python-to-the-masses-with-hosting-and-devops-at-pythonanywhere'},\n",
       " {u'score': u'2',\n",
       "  u'title': u'Face-emotions recognition algorythm in Python.',\n",
       "  u'url': u'/r/Python/comments/3896lf/faceemotions_recognition_algorythm_in_python/'},\n",
       " {u'score': u'2',\n",
       "  u'title': u'Developer Health Study - Open sourcing results',\n",
       "  u'url': u'/r/Python/comments/38a48d/developer_health_study_open_sourcing_results/'},\n",
       " {u'score': u'\\u2022',\n",
       "  u'title': u'How should I work with big arrays of data',\n",
       "  u'url': u'/r/Python/comments/38apv1/how_should_i_work_with_big_arrays_of_data/'},\n",
       " {u'score': u'\\u2022',\n",
       "  u'title': u'What are some suggestions for writing maintainable Python scripts?',\n",
       "  u'url': u'/r/Python/comments/38adpd/what_are_some_suggestions_for_writing/'},\n",
       " {u'score': u'1',\n",
       "  u'title': u'Change pip to not use --user as default',\n",
       "  u'url': u'/r/Python/comments/3895wc/change_pip_to_not_use_user_as_default/'},\n",
       " {u'score': u'1',\n",
       "  u'title': u'Notable Discount for IntelliJ IDEA (big brother to PyCharm)',\n",
       "  u'url': u'/r/Python/comments/3893zn/notable_discount_for_intellij_idea_big_brother_to/'},\n",
       " {u'score': u'1',\n",
       "  u'title': u'Pycharm - how to change default folder for projects?',\n",
       "  u'url': u'/r/Python/comments/3893f6/pycharm_how_to_change_default_folder_for_projects/'},\n",
       " {u'score': u'1',\n",
       "  u'title': u'Orator ORM 0.6 is out: Model events and pagination',\n",
       "  u'url': u'http://blog.eustace.io/orator-python-orm-0-6-is-out-model-events-pagination.html'},\n",
       " {u'score': u'68',\n",
       "  u'title': u'Finally it is now easy to send emails in Python!',\n",
       "  u'url': u'/r/Python/comments/384tcu/finally_it_is_now_easy_to_send_emails_in_python/'},\n",
       " {u'score': u'60',\n",
       "  u'title': u'Using Python to Explore Campaign Finance (the same way Solomon Kahn does) - code in comments',\n",
       "  u'url': u'http://imgur.com/GDXrCsh'},\n",
       " {u'score': u'146',\n",
       "  u'title': u'Pypy 2.6.0 released',\n",
       "  u'url': u'http://morepypy.blogspot.com/2015/06/pypy-260-release.html'},\n",
       " {u'score': u'0',\n",
       "  u'title': u'Parse xml with lxml',\n",
       "  u'url': u'/r/Python/comments/389118/parse_xml_with_lxml/'},\n",
       " {u'score': u'0',\n",
       "  u'title': u'Python 3 tips guide for experienced Python 2 Developer?',\n",
       "  u'url': u'/r/Python/comments/38901p/python_3_tips_guide_for_experienced_python_2/'},\n",
       " {u'score': u'0',\n",
       "  u'title': u'Alpha users for data-driven education platform',\n",
       "  u'url': u'/r/Python/comments/389el1/alpha_users_for_datadriven_education_platform/'},\n",
       " {u'score': u'3',\n",
       "  u'title': u'Cheat Sheet: Data Visualisation in Python can now be faster',\n",
       "  u'url': u'http://www.analyticsvidhya.com/blog/2015/06/data-visualization-in-python-cheat-sheet/'},\n",
       " {u'score': u'0',\n",
       "  u'title': u'SaveMyCode: A backup utility for programmers',\n",
       "  u'url': u'/r/Python/comments/3882fx/savemycode_a_backup_utility_for_programmers/'}]"
      ]
     },
     "execution_count": 60,
     "metadata": {},
     "output_type": "execute_result"
    }
   ],
   "source": [
    "results"
   ]
  },
  {
   "cell_type": "code",
   "execution_count": 61,
   "metadata": {
    "collapsed": false
   },
   "outputs": [
    {
     "data": {
      "text/plain": [
       "u'http://www.reddit.com/r/python'"
      ]
     },
     "execution_count": 61,
     "metadata": {},
     "output_type": "execute_result"
    }
   ],
   "source": [
    "worker.driver.current_url"
   ]
  },
  {
   "cell_type": "code",
   "execution_count": 62,
   "metadata": {
    "collapsed": true
   },
   "outputs": [],
   "source": [
    "worker.teardown()"
   ]
  },
  {
   "cell_type": "code",
   "execution_count": null,
   "metadata": {
    "collapsed": true
   },
   "outputs": [],
   "source": []
  }
 ],
 "metadata": {
  "kernelspec": {
   "display_name": "Python 2",
   "language": "python",
   "name": "python2"
  },
  "language_info": {
   "codemirror_mode": {
    "name": "ipython",
    "version": 2
   },
   "file_extension": ".py",
   "mimetype": "text/x-python",
   "name": "python",
   "nbconvert_exporter": "python",
   "pygments_lexer": "ipython2",
   "version": "2.7.6"
  }
 },
 "nbformat": 4,
 "nbformat_minor": 0
}
