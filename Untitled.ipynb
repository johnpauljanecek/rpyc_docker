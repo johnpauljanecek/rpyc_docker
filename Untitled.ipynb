{
 "cells": [
  {
   "cell_type": "markdown",
   "metadata": {},
   "source": [
    "# Simple Express Server"
   ]
  },
  {
   "cell_type": "markdown",
   "metadata": {},
   "source": [
    "var express = require('express');\n",
    "var app = express();\n",
    "\n",
    "app.get('/', function (req, res) {\n",
    "  res.send('Hello World!');\n",
    "});\n",
    "\n",
    "app.use('/static', express.static('/home/john'));\n",
    "\n",
    "app.get('/fred', function (req, res) {\n",
    "  res.send('Hello Fred');\n",
    "});\n",
    "\n",
    "var server = app.listen(3000, function () {\n",
    "\n",
    "  var host = server.address().address;\n",
    "  var port = server.address().port;\n",
    "\n",
    "  console.log('Example app listening at http://%s:%s', host, port);\n",
    "\n",
    "});"
   ]
  },
  {
   "cell_type": "code",
   "execution_count": 6,
   "metadata": {
    "collapsed": false
   },
   "outputs": [
    {
     "data": {
      "text/plain": [
       "[Server] {\"domain\":{\"domain\":null,\"_events\":{},\"members\":[]},\"_events\":{},\"_connections\":0,\"_handle\":null,\"_usingSlaves\":false,\"_slaves\":[],\"allowHalfOpen\":true,\"pauseOnConnect\":false,\"httpAllowHalfOpen\":false,\"timeout\":120000,\"_connectionKey\":\"4:null:3000\"}"
      ]
     },
     "execution_count": 6,
     "metadata": {},
     "output_type": "execute_result"
    }
   ],
   "source": [
    "server.close()"
   ]
  },
  {
   "cell_type": "code",
   "execution_count": 66,
   "metadata": {
    "collapsed": false
   },
   "outputs": [
    {
     "data": {
      "text/plain": [
       "function serveStatic(root, options) {\n",
       "  if (!root) {\n",
       "    throw new TypeError('root path required')\n",
       "  }\n",
       "\n",
       "  if (typeof root !== 'string') {\n",
       "    throw new TypeError('root path must be a string')\n",
       "  }\n",
       "\n",
       "  // copy options object\n",
       "  options = merge({}, options)\n",
       "\n",
       "  // resolve root to absolute\n",
       "  root = resolve(root)\n",
       "\n",
       "  // default redirect\n",
       "  var redirect = options.redirect !== false\n",
       "\n",
       "  // headers listener\n",
       "  var setHeaders = options.setHeaders\n",
       "  delete options.setHeaders\n",
       "\n",
       "  if (setHeaders && typeof setHeaders !== 'function') {\n",
       "    throw new TypeError('option setHeaders must be function')\n",
       "  }\n",
       "\n",
       "  // setup options for send\n",
       "  options.maxage = options.maxage || options.maxAge || 0\n",
       "  options.root = root\n",
       "\n",
       "  return function serveStatic(req, res, next) {\n",
       "    if (req.method !== 'GET' && req.method !== 'HEAD') {\n",
       "      return next()\n",
       "    }\n",
       "\n",
       "    var opts = merge({}, options)\n",
       "    var originalUrl = parseurl.original(req)\n",
       "    var path = parseurl(req).pathname\n",
       "    var hasTrailingSlash = originalUrl.pathname[originalUrl.pathname.length - 1] === '/'\n",
       "\n",
       "    if (path === '/' && !hasTrailingSlash) {\n",
       "      // make sure redirect occurs at mount\n",
       "      path = ''\n",
       "    }\n",
       "\n",
       "    // create send stream\n",
       "    var stream = send(req, path, opts)\n",
       "\n",
       "    if (redirect) {\n",
       "      // redirect relative to originalUrl\n",
       "      stream.on('directory', function redirect() {\n",
       "        if (hasTrailingSlash) {\n",
       "          return next()\n",
       "        }\n",
       "\n",
       "        // append trailing slash\n",
       "        originalUrl.path = null\n",
       "        originalUrl.pathname = collapseLeadingSlashes(originalUrl.pathname + '/')\n",
       "\n",
       "        // reformat the URL\n",
       "        var target = url.format(originalUrl)\n",
       "\n",
       "        // send redirect response\n",
       "        res.statusCode = 303\n",
       "        res.setHeader('Content-Type', 'text/html; charset=utf-8')\n",
       "        res.setHeader('Location', target)\n",
       "        res.end('Redirecting to <a href=\"' + escapeHtml(target) + '\">' + escapeHtml(target) + '</a>\\n')\n",
       "      })\n",
       "    } else {\n",
       "      // forward to next middleware on directory\n",
       "      stream.on('directory', next)\n",
       "    }\n",
       "\n",
       "    // add headers listener\n",
       "    if (setHeaders) {\n",
       "      stream.on('headers', setHeaders)\n",
       "    }\n",
       "\n",
       "    // forward non-404 errors\n",
       "    stream.on('error', function error(err) {\n",
       "      next(err.status === 404 ? null : err)\n",
       "    })\n",
       "\n",
       "    // pipe\n",
       "    stream.pipe(res)\n",
       "  }\n",
       "}"
      ]
     },
     "execution_count": 66,
     "metadata": {},
     "output_type": "execute_result"
    }
   ],
   "source": [
    "express.static"
   ]
  },
  {
   "cell_type": "markdown",
   "metadata": {},
   "source": [
    "#Event Emitters"
   ]
  },
  {
   "cell_type": "code",
   "execution_count": 9,
   "metadata": {
    "collapsed": true
   },
   "outputs": [],
   "source": [
    "var events = require(\"events\");"
   ]
  },
  {
   "cell_type": "code",
   "execution_count": 10,
   "metadata": {
    "collapsed": true
   },
   "outputs": [],
   "source": [
    "var channel = new events.EventEmitter()"
   ]
  },
  {
   "cell_type": "code",
   "execution_count": 22,
   "metadata": {
    "collapsed": false
   },
   "outputs": [
    {
     "data": {
      "text/plain": [
       "[EventEmitter] {\"domain\":{\"domain\":null,\"_events\":{},\"members\":[]},\"_events\":{\"join\":[null,null,null]}}"
      ]
     },
     "execution_count": 22,
     "metadata": {},
     "output_type": "execute_result"
    }
   ],
   "source": [
    "channel.on('join',function(x){\n",
    "    console.log(\"testx\",x) \n",
    "});"
   ]
  },
  {
   "cell_type": "code",
   "execution_count": 23,
   "metadata": {
    "collapsed": false
   },
   "outputs": [
    {
     "name": "stdout",
     "output_type": "stream",
     "text": [
      "test\n",
      "testx\n",
      "testx 10\n"
     ]
    },
    {
     "data": {
      "text/plain": [
       "true"
      ]
     },
     "execution_count": 23,
     "metadata": {},
     "output_type": "execute_result"
    }
   ],
   "source": [
    "channel.emit(\"join\",10)"
   ]
  },
  {
   "cell_type": "markdown",
   "metadata": {},
   "source": [
    "#File Operations"
   ]
  },
  {
   "cell_type": "code",
   "execution_count": 27,
   "metadata": {
    "collapsed": true
   },
   "outputs": [],
   "source": [
    "var fs = require(\"fs\");"
   ]
  },
  {
   "cell_type": "code",
   "execution_count": 40,
   "metadata": {
    "collapsed": true
   },
   "outputs": [
    {
     "name": "stdout",
     "output_type": "stream",
     "text": [
      "#test.clj#\n",
      "#test.py#\n",
      ".AndroidStudio\n",
      ".AndroidStudioBeta\n",
      ".Genymobile\n",
      ".Skype\n",
      ".Xauthority\n",
      ".android\n",
      ".apport-ignore.xml\n",
      ".atom\n",
      ".bash_history\n",
      ".bash_logout\n",
      ".bash_profile\n",
      ".bashrc\n",
      ".bashrc~\n",
      ".buildozer\n",
      ".cache\n",
      ".config\n",
      ".dbus\n",
      ".dmrc\n",
      ".emacs\n",
      ".emacs.d\n",
      ".emacs~\n",
      ".fotoxx\n",
      ".gconf\n",
      ".gem\n",
      ".gftp\n",
      ".gimp-2.8\n",
      ".gitconfig\n",
      ".gksu.lock\n",
      ".gnome\n",
      ".gnome2\n",
      ".gnome2_private\n",
      ".gradle\n",
      ".gstreamer-0.10\n",
      ".hardinfo\n",
      ".heroku\n",
      ".icons\n",
      ".ipynb_checkpoints\n",
      ".ipython\n",
      ".irb-history\n",
      ".java\n",
      ".jline-reply.history\n",
      ".jswat\n",
      ".kivy\n",
      ".launcher\n",
      ".lein\n",
      ".leo\n",
      ".local\n",
      ".m2\n",
      ".mozilla\n",
      ".mplayer\n",
      ".mtpaint\n",
      ".node-gyp\n",
      ".npm\n",
      ".nvm\n",
      ".openshift\n",
      ".opera\n",
      ".pgadmin3\n",
      ".pgpass\n",
      ".pip\n",
      ".pki\n",
      ".profile\n",
      ".pry_history\n",
      ".purple\n",
      ".python_history\n",
      ".rubotorc\n",
      ".rvm\n",
      ".ssh\n",
      ".subversion\n",
      ".sylpheed-2.0\n",
      ".thumbnails\n",
      ".viminfo\n",
      ".virtualenvs\n",
      ".vnc\n",
      ".watershed\n",
      ".wine\n",
      ".xinputrc\n",
      ".xscreensaver\n",
      ".xsession-errors\n",
      ".xsession-errors.old\n",
      ".zlogin\n",
      ".zshrc\n",
      ".zshrc~\n",
      "1512438_582141665263264_2078695935713422336_n.jpg\n",
      "2015-02-10-120539_1366x768_scrot.png\n",
      "2015-02-10-120540_1366x768_scrot.png\n",
      "2015-02-12-192835_1366x768_scrot.png\n",
      "AndroidStudioProjects\n",
      "AndroidstudioProjects\n",
      "BG Jobs.ipynb\n",
      "Desktop\n",
      "Development\n",
      "Docker.ipynb\n",
      "DockerWine\n",
      "DockerWine~\n",
      "Documents\n",
      "Documentsxxxx.json\n",
      "Downloads\n",
      "FB BG Jobs.ipynb\n",
      "FB BJ Jobs 2.ipynb\n",
      "FB Decode Haar.ipynb\n",
      "FB Groups 2.ipynb\n",
      "FB Groups.ipynb\n",
      "FB JS injects.ipynb\n",
      "FBGroups 3.ipynb\n",
      "Facebook Decode Pager.ipynb\n",
      "Facebook Pages.ipynb\n",
      "IPLeak_Net .ipynb\n",
      "IPythonNotebooks\n",
      "JS Execute.ipynb\n",
      "Music\n",
      "Node JS example.ipynb\n",
      "Nosetests Facebook.ipynb\n",
      "Pictures\n",
      "Psutil.ipynb\n",
      "Public\n",
      "Sel Grid.ipynb\n",
      "Selenium Grid.ipynb\n",
      "Templates\n",
      "Threads.ipynb\n",
      "Untitled.ipynb\n",
      "Untitled1.ipynb\n",
      "Videos\n",
      "Wine Selenium.ipynb\n",
      "android-sdk-linux\n",
      "android-sdk_r22.6.2-linux.tgz\n",
      "android-studio\n",
      "android-studio-ide-135.1629389-linux.zip\n",
      "bin\n",
      "chicken\n",
      "chrome-profiles\n",
      "data\n",
      "demo.java\n",
      "demo.java~\n",
      "docker\n",
      "down.sh\n",
      "down.sh~\n",
      "dump\n",
      "emacs-ipython-notebook\n",
      "fotoxx-15.02-x86_64.deb\n",
      "genymotion\n",
      "genymotion-2.3.0_x64.bin\n",
      "genymotion-2.3.1_x64.bin\n",
      "hello.rb\n",
      "hello.rb~\n",
      "ipython\n",
      "jswat-3.16-installer.jar\n",
      "kernel.json\n",
      "kernel.json~\n",
      "kernel1.json\n",
      "log.log\n",
      "logging\n",
      "mary-nov-5-2014.jpeg\n",
      "mary-oct-13-2014.jpeg\n",
      "mary-oct-29-2014.jpeg\n",
      "mary-oct-31-2014.jpeg\n",
      "me.jpeg\n",
      "namespace\n",
      "netns-up\n",
      "node_modules\n",
      "nohup.out\n",
      "out.txt\n",
      "personal_trainer_atoz.zip\n",
      "pgadmin.log\n",
      "phantomjs-2.0.0\n",
      "pics\n",
      "profiles\n",
      "python.json\n",
      "python_env\n",
      "run.sh\n",
      "run.sh~\n",
      "secret.txt\n",
      "slinging\n",
      "snippets\n",
      "temp.html\n",
      "temp.html~\n",
      "test.clj\n",
      "test.js\n",
      "test.json\n",
      "test.py\n",
      "test.py~\n",
      "tmp\n",
      "ubuntu64.pem\n",
      "untitled.txt\n",
      "up.sh\n",
      "up.sh~\n",
      "vpngate_153.178.116.234_tcp_1371.ovpn\n",
      "vpnns.sh\n",
      "vpnns.sh~\n",
      "winefontssmoothing_en.sh\n",
      "xls_personal_trainers\n",
      "xxxxxwine\n",
      "zodb_db\n"
     ]
    }
   ],
   "source": [
    "fs.readdir(\"/home/john/\",function(err,files){\n",
    "    files.forEach(function(name){\n",
    "        console.log(name);\n",
    "    })\n",
    "});"
   ]
  },
  {
   "cell_type": "markdown",
   "metadata": {},
   "source": [
    "#Exec functions"
   ]
  },
  {
   "cell_type": "code",
   "execution_count": 43,
   "metadata": {
    "collapsed": false
   },
   "outputs": [],
   "source": [
    "var exec = require(\"child_process\").exec"
   ]
  },
  {
   "cell_type": "code",
   "execution_count": 48,
   "metadata": {
    "collapsed": true
   },
   "outputs": [
    {
     "data": {
      "text/plain": [
       "[ChildProcess] [object Object]"
      ]
     },
     "execution_count": 48,
     "metadata": {},
     "output_type": "execute_result"
    },
    {
     "name": "stdout",
     "output_type": "stream",
     "text": [
      "total 64\n",
      "drwxrwxr-x 3 john john 4096 Jun  5 05:27 build\n",
      "-rw-rw-r-- 1 john john  527 Jun  5 05:27 DESCRIPTION.rst\n",
      "-rw-rw-r-- 1 john john    0 Jun  5 05:27 DESCRIPTION.rst~\n",
      "drwxrwxr-x 4 john john 4096 Jun 11 15:33 docker_files\n",
      "drwxrwxr-x 4 john john 4096 Jun  5 05:27 docs\n",
      "-rw-rw-r-- 1 john john 1446 Jun 11 15:29 driver_firebug.py\n",
      "-rw-rw-r-- 1 john john    0 Jun 11 13:42 driver_firebug.py~\n",
      "drwxrwxr-x 3 john john 4096 Jun 16 07:05 examples\n",
      "-rw-rw-r-- 1 john john 8311 Jun  5 05:27 ipython_log.py\n",
      "-rw-rw-r-- 1 john john   33 Jun  5 05:27 #README.md#\n",
      "-rw-rw-r-- 1 john john   65 Jun  5 06:43 README.md\n",
      "drwxrwxr-x 2 john john 4096 Jun 19 14:06 rpyc_docker\n",
      "-rw-rw-r-- 1 john john 3768 Jun  5 05:27 setup.py\n",
      "-rw-rw-r-- 1 john john    0 Jun  5 05:27 setup.py~\n",
      "-rw-rw-r-- 1 john john 9857 Jun 19 17:46 Untitled.ipynb\n",
      "\n"
     ]
    }
   ],
   "source": [
    "exec(\"ls -l\",function(err,result) {\n",
    "    console.log(result);\n",
    "})"
   ]
  },
  {
   "cell_type": "code",
   "execution_count": 49,
   "metadata": {
    "collapsed": false
   },
   "outputs": [
    {
     "ename": "Javascript Error",
     "evalue": "__dirname is not defined",
     "output_type": "error",
     "traceback": [
      "ReferenceError: __dirname is not defined\n    at <anonymous>:1:1"
     ]
    }
   ],
   "source": [
    "__dirname"
   ]
  },
  {
   "cell_type": "markdown",
   "metadata": {},
   "source": [
    "#Render Swig"
   ]
  },
  {
   "cell_type": "code",
   "execution_count": 63,
   "metadata": {
    "collapsed": true
   },
   "outputs": [],
   "source": [
    "var swig = require('swig');"
   ]
  },
  {
   "cell_type": "code",
   "execution_count": 64,
   "metadata": {
    "collapsed": false
   },
   "outputs": [
    {
     "data": {
      "text/plain": [
       "\"<!DOCTYPE html>\\n<html lang=\\\"en\\\">\\n\\n<body>\\n\\n  <div class=\\\"container\\\">\\n\\n    blah\\n\\n  </div>\\n\\n\\n  <script src=\\\"https://ajax.googleapis.com/ajax/libs/jquery/1.11.0/jquery.min.js\\\"></script>\\n  <script src=\\\"http://netdna.bootstrapcdn.com/bootstrap/3.2.0/js/bootstrap.min.js\\\"></script>\\n\\n</body>\\n\\n</html>\\n\""
      ]
     },
     "execution_count": 64,
     "metadata": {},
     "output_type": "execute_result"
    }
   ],
   "source": [
    "swig.renderFile(\"/home/john/Development/nodejs/blog/views/current_theme/_layouts/default.html\",\n",
    "               { content: \"blah\"})"
   ]
  },
  {
   "cell_type": "code",
   "execution_count": null,
   "metadata": {
    "collapsed": true
   },
   "outputs": [],
   "source": []
  }
 ],
 "metadata": {
  "kernelspec": {
   "display_name": "NodeJS",
   "language": "javascript",
   "name": "nodejs"
  },
  "language_info": {
   "codemirror_mode": "javascript",
   "file_extension": "js",
   "mimetype": "text/javascript",
   "name": "nodejs",
   "pygments_lexer": "javascript",
   "version": "0.10"
  }
 },
 "nbformat": 4,
 "nbformat_minor": 0
}
